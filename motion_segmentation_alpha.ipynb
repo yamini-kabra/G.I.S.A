{
 "cells": [
  {
   "cell_type": "code",
   "execution_count": 1,
   "metadata": {},
   "outputs": [],
   "source": [
    "import cv2\n",
    "import tensorflow as tf\n",
    "import numpy as np\n",
    "import math\n",
    "import time"
   ]
  },
  {
   "cell_type": "code",
   "execution_count": 3,
   "metadata": {},
   "outputs": [],
   "source": [
    "# def paa_skin(image,image1):  \n",
    "#     new1 = cv2.cvtColor(image, cv2.COLOR_BGR2GRAY)\n",
    "#     dist = cv2.distanceTransform(new1, cv2.DIST_L2, 5)\n",
    "#     cv2.normalize(dist, dist, 0, 1.0, cv2.NORM_MINMAX)\n",
    "#     return image1,dist\n",
    "def callback(x):\n",
    "    pass"
   ]
  },
  {
   "cell_type": "code",
   "execution_count": 5,
   "metadata": {},
   "outputs": [
    {
     "name": "stdout",
     "output_type": "stream",
     "text": [
      "hello\n",
      "hello\n",
      "hello\n"
     ]
    }
   ],
   "source": [
    "cv2.namedWindow('image1')\n",
    "cap=cv2.VideoCapture(0)\n",
    "ilowH = 0\n",
    "ihighH = 255\n",
    "ilowS = 0\n",
    "ihighS = 255\n",
    "ilowV = 0\n",
    "ihighV = 255\n",
    "cv2.createTrackbar('lowH1', 'image1', ilowH, 179, callback)\n",
    "cv2.createTrackbar('highH1', 'image1', ihighH, 179, callback)\n",
    "cv2.createTrackbar('lowS1', 'image1', ilowS, 255, callback)\n",
    "cv2.createTrackbar('highS1', 'image1', ihighS, 255, callback)\n",
    "cv2.createTrackbar('lowV1', 'image1', ilowV, 255, callback)\n",
    "cv2.createTrackbar('highV1', 'image1', ihighV, 255, callback)\n",
    "img=[]\n",
    "img1=np.zeros((400,400))\n",
    "img.append(img1)\n",
    "c=0\n",
    "start=time.time()\n",
    "while True:\n",
    "    try:\n",
    "        ret,frame=cap.read()\n",
    "        frame=cv2.resize(frame, (400, 400), interpolation = cv2.INTER_LINEAR)\n",
    "        ilowH1 = cv2.getTrackbarPos('lowH1', 'image1')\n",
    "        ihighH1 = cv2.getTrackbarPos('highH1', 'image1')\n",
    "        ilowS1 = cv2.getTrackbarPos('lowS1', 'image1')\n",
    "        ihighS1 = cv2.getTrackbarPos('highS1', 'image1')\n",
    "        ilowV1 = cv2.getTrackbarPos('lowV1', 'image1')\n",
    "        ihighV1 = cv2.getTrackbarPos('highV1', 'image1')\n",
    "        hsv=cv2.cvtColor(frame,cv2.COLOR_BGR2HSV)\n",
    "        low1=np.array([ilowH1,ilowS1,ilowV1])\n",
    "        high1=np.array([ihighH1,ihighS1,ihighV1])\n",
    "        img_mask1=cv2.inRange(hsv,low1,high1)\n",
    "        output1=cv2.bitwise_and(frame,frame,mask=img_mask1)\n",
    "        new1 = cv2.cvtColor(output1, cv2.COLOR_BGR2GRAY)\n",
    "        dist = cv2.distanceTransform(new1, cv2.DIST_L2, 5)\n",
    "        cv2.normalize(dist, dist, 0, 1.0, cv2.NORM_MINMAX)\n",
    "        M=cv2.moments(dist)\n",
    "        cX = (int(M[\"m10\"] / M[\"m00\"]))\n",
    "        cY = (int(M[\"m01\"] / M[\"m00\"]))\n",
    "        cv2.circle(frame, (cX, cY), 5, (0, 0, 255), -1)\n",
    "        cv2.circle(img[c], (cX, cY), 2, (255, 255, 255))\n",
    "        cv2.imshow(\"image1\",frame)\n",
    "        cv2.imshow('dist',dist)\n",
    "        cv2.imshow(\"image\",output1)\n",
    "        end=time.time()\n",
    "        diff=end-start\n",
    "        if(diff>10):\n",
    "            print(\"passing through the if condition\")\n",
    "            img1=np.zeros((400,400))\n",
    "            img.append(img1)\n",
    "            c=c+1\n",
    "            start=time.time()\n",
    "    except:\n",
    "        pass\n",
    "    if (cv2.waitKey(1) == 13):\n",
    "            break\n",
    "cv2.destroyAllWindows()\n",
    "cap.release()"
   ]
  },
  {
   "cell_type": "code",
   "execution_count": 20,
   "metadata": {},
   "outputs": [],
   "source": [
    "#to show the array of images\n",
    "for i in range(0,c+1):\n",
    "    cv2.imshow(str(i),img[i])\n",
    "    cv2.waitKey(0)\n",
    "    cv2.destroyAllWindows()"
   ]
  },
  {
   "cell_type": "code",
   "execution_count": 22,
   "metadata": {},
   "outputs": [],
   "source": [
    "#to save the array of images\n",
    "for i in range (0,c+1):\n",
    "    cv2.imwrite(\"./array_images/\"+str(i)+\".jpg\",img[i])"
   ]
  },
  {
   "cell_type": "code",
   "execution_count": null,
   "metadata": {},
   "outputs": [],
   "source": []
  }
 ],
 "metadata": {
  "kernelspec": {
   "display_name": "Python 3",
   "language": "python",
   "name": "python3"
  },
  "language_info": {
   "codemirror_mode": {
    "name": "ipython",
    "version": 3
   },
   "file_extension": ".py",
   "mimetype": "text/x-python",
   "name": "python",
   "nbconvert_exporter": "python",
   "pygments_lexer": "ipython3",
   "version": "3.6.7"
  }
 },
 "nbformat": 4,
 "nbformat_minor": 2
}
